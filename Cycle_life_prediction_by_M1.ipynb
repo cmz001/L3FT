{
 "cells": [
  {
   "cell_type": "markdown",
   "metadata": {
    "id": "nLasKfLEAo-C"
   },
   "source": [
    "#输入4维张量数据进行cycle life预测\n",
    "\n",
    "\n",
    "1.   完整数据\n",
    "2.   稀疏数据\n",
    "3.   稀疏填充后的数据\n",
    "\n"
   ]
  },
  {
   "cell_type": "code",
   "execution_count": 21,
   "metadata": {
    "colab": {
     "base_uri": "https://localhost:8080/"
    },
    "executionInfo": {
     "elapsed": 44305,
     "status": "ok",
     "timestamp": 1698304387100,
     "user": {
      "displayName": "minzhi chen",
      "userId": "00440718569256466225"
     },
     "user_tz": -480
    },
    "id": "XD4B1-H_XCnf",
    "outputId": "d8d59da5-ab26-4f9b-bbd3-1232f90602b4"
   },
   "outputs": [],
   "source": [
    "# from google.colab import drive\n",
    "# drive.mount(\"/content/drive\")\n",
    "\n",
    "import pandas as pd\n",
    "import numpy as np\n",
    "import matplotlib.pyplot as plt"
   ]
  },
  {
   "cell_type": "code",
   "execution_count": 35,
   "metadata": {},
   "outputs": [
    {
     "name": "stdout",
     "output_type": "stream",
     "text": [
      "当前路径: C:\\Users\\Administrator\\pyworkspace\n"
     ]
    }
   ],
   "source": [
    "import os\n",
    "print(\"当前路径:\", os.getcwd())"
   ]
  },
  {
   "cell_type": "markdown",
   "metadata": {
    "id": "SEjP05oXX-7a"
   },
   "source": [
    "#get data\n",
    "*   首先将特征数据从txt文件中处理成一个四维张量，然后按照battery id排成一个矩阵输入RF中\n",
    "*   标签数据额外读取一个文件\n"
   ]
  },
  {
   "cell_type": "code",
   "execution_count": 22,
   "metadata": {
    "executionInfo": {
     "elapsed": 40432,
     "status": "ok",
     "timestamp": 1698305759469,
     "user": {
      "displayName": "minzhi chen",
      "userId": "00440718569256466225"
     },
     "user_tz": -480
    },
    "id": "6x8No9YKGn5O"
   },
   "outputs": [],
   "source": [
    "def loadData(dataset_path, split=\" \"):\n",
    "  data_item_list = []\n",
    "  # 一条数据项(data_item)内所包含的信息按顺序展示为:\n",
    "  # batteryId::sampleId::tcycleId::typeId::rating\n",
    "  with open(dataset_path) as fin:\n",
    "    # next(fin)  # cast into oblivion\n",
    "    for data_item in fin:\n",
    "      temp_tuple = data_item.strip().split(split)[:5]\n",
    "      temp_tuple[0] = int(temp_tuple[0])  # 电池ID\n",
    "      temp_tuple[1] = int(temp_tuple[1])  # 采样ID\n",
    "      temp_tuple[2] = int(temp_tuple[2])  # 循环ID\n",
    "      temp_tuple[3] = int(temp_tuple[3])  # 属性ID\n",
    "      temp_tuple[4] = float(temp_tuple[4])  # 值\n",
    "      data_item_list.append(tuple(temp_tuple))\n",
    "  return data_item_list\n",
    "path2='D:/dataset/toyota/不同填充方法填充后的全张量数据/'\n",
    "feature_data = loadData(path2+'toyota_4Dtensor_124_200_100_7_data_s0.99_p80_fulledbySGDL3_r40_l0.0_l20.0_eta0.05_norway1.txt')\n"
   ]
  },
  {
   "cell_type": "code",
   "execution_count": 23,
   "metadata": {
    "colab": {
     "base_uri": "https://localhost:8080/"
    },
    "executionInfo": {
     "elapsed": 807,
     "status": "ok",
     "timestamp": 1698305774638,
     "user": {
      "displayName": "minzhi chen",
      "userId": "00440718569256466225"
     },
     "user_tz": -480
    },
    "id": "EMgL7zepRi-B",
    "outputId": "46c3906b-286f-46fb-adf7-41688e89ec81"
   },
   "outputs": [
    {
     "name": "stdout",
     "output_type": "stream",
     "text": [
      "(17360000, 5)\n"
     ]
    }
   ],
   "source": [
    "import numpy as np\n",
    "print(np.array(feature_data).shape)"
   ]
  },
  {
   "cell_type": "code",
   "execution_count": 24,
   "metadata": {
    "colab": {
     "base_uri": "https://localhost:8080/"
    },
    "executionInfo": {
     "elapsed": 22577,
     "status": "ok",
     "timestamp": 1698305797197,
     "user": {
      "displayName": "minzhi chen",
      "userId": "00440718569256466225"
     },
     "user_tz": -480
    },
    "id": "wKqaM0gBGrPE",
    "outputId": "b4fe63f4-d998-4647-b239-d0c5a33472ab"
   },
   "outputs": [
    {
     "name": "stderr",
     "output_type": "stream",
     "text": [
      "100%|█████████████████████████████████████████████████████████████████| 17360000/17360000 [00:08<00:00, 1960005.95it/s]\n"
     ]
    }
   ],
   "source": [
    "from tqdm import tqdm\n",
    "def getMaxMin(data):\n",
    "  #获取元素最大最小值\n",
    "  battery_list = [i[0] for i in data]\n",
    "  sample_list = [i[1] for i in data]\n",
    "  cycle_list = [i[2] for i in data]\n",
    "  type_list = [i[3] for i in data]\n",
    "  battery_num=max(battery_list)+1\n",
    "  sample_num=max(sample_list)+1\n",
    "  cycle_num= max(cycle_list)+1\n",
    "  type_num= max(type_list)+1\n",
    "\n",
    "  return battery_num, sample_num, cycle_num, type_num\n",
    "\n",
    "battery_num, sample_num, cycle_num, type_num=getMaxMin(feature_data)\n",
    "\n",
    "#创建一个四维数组存储全张量数据\n",
    "battery_tensor = np.zeros((battery_num, sample_num, cycle_num, type_num))\n",
    "\n",
    "#将已知元素填充到张量battery_tensor中\n",
    "for each_interaction in tqdm(feature_data, total=len(feature_data)):\n",
    "  battery_tensor[each_interaction[0]][each_interaction[1]][each_interaction[2]][each_interaction[3]] = each_interaction[4]"
   ]
  },
  {
   "cell_type": "code",
   "execution_count": 25,
   "metadata": {
    "colab": {
     "base_uri": "https://localhost:8080/"
    },
    "executionInfo": {
     "elapsed": 22,
     "status": "ok",
     "timestamp": 1698305797197,
     "user": {
      "displayName": "minzhi chen",
      "userId": "00440718569256466225"
     },
     "user_tz": -480
    },
    "id": "YymFPpNRR9pp",
    "outputId": "e7711edb-9e73-46d2-fd7f-0cc18748beb5"
   },
   "outputs": [
    {
     "name": "stdout",
     "output_type": "stream",
     "text": [
      "124 200 100 7\n"
     ]
    }
   ],
   "source": [
    "print(battery_num, sample_num, cycle_num, type_num)\n",
    "# print(np.array(battery_tensor).shape)\n",
    "# battery_list = [i[0] for i in data]\n",
    "# print(len(battery_list))"
   ]
  },
  {
   "cell_type": "code",
   "execution_count": 26,
   "metadata": {
    "colab": {
     "base_uri": "https://localhost:8080/"
    },
    "executionInfo": {
     "elapsed": 3992,
     "status": "ok",
     "timestamp": 1698305801169,
     "user": {
      "displayName": "minzhi chen",
      "userId": "00440718569256466225"
     },
     "user_tz": -480
    },
    "id": "XyVdRlIaGvBh",
    "outputId": "bbd5d3f8-e526-4891-e9ba-36e3d6f1f1f9"
   },
   "outputs": [
    {
     "name": "stdout",
     "output_type": "stream",
     "text": [
      "(124, 140000)\n"
     ]
    }
   ],
   "source": [
    "'''\n",
    "特征数据处理\n",
    "'''\n",
    "feature_list=[]  #定义LSTM输入数据\n",
    "# 按照第四维进行切片并分成多个矩阵\n",
    "# battery_tensor.shape=(43, 1000, 100, 4),按照循环次数（即battery_tensor的第3个维度）划分矩阵切片，\n",
    "mats_in_timeslice = np.split(battery_tensor, battery_tensor.shape[0], axis=0) #mats_in_timeslice的列表长度为电池ID\n",
    "for i in range(battery_tensor.shape[0]):\n",
    "  input_vector=mats_in_timeslice[i].reshape(-1)\n",
    "  feature_list.append(input_vector)\n",
    "\n",
    "# 遍历一维数组并拼接成二维数组\n",
    "model_feature_input = None\n",
    "for vector in feature_list:\n",
    "  if model_feature_input is None:\n",
    "    model_feature_input = vector\n",
    "  else:\n",
    "    model_feature_input = np.vstack((model_feature_input, vector))\n",
    "\n",
    "print(model_feature_input.shape)\n",
    "\n",
    "MODEL_INPUT_SIZE=model_feature_input.shape[1]"
   ]
  },
  {
   "cell_type": "code",
   "execution_count": 27,
   "metadata": {
    "executionInfo": {
     "elapsed": 27,
     "status": "ok",
     "timestamp": 1698305801170,
     "user": {
      "displayName": "minzhi chen",
      "userId": "00440718569256466225"
     },
     "user_tz": -480
    },
    "id": "riQtjWYWGzG9"
   },
   "outputs": [],
   "source": [
    "'''\n",
    "标签数据处理\n",
    "'''\n",
    "label_path='D:/dataset/toyota/toyota_4Dtensor_label_124_cyclelife.txt'\n",
    "# label_path='D:/dataset/toyota/toyota_4Dtensor_label_124_soh_c300.txt'\n",
    "label_list=[]\n",
    "with open(label_path) as file:\n",
    "  # next(file)  # 跳过标题\n",
    "  for label_item in file.readlines():\n",
    "    temp_item = float(label_item.strip())\n",
    "    label_list.append(temp_item)\n",
    "model_label_input=np.array(label_list)  #列表转为数组"
   ]
  },
  {
   "cell_type": "code",
   "execution_count": 28,
   "metadata": {
    "colab": {
     "base_uri": "https://localhost:8080/"
    },
    "executionInfo": {
     "elapsed": 27,
     "status": "ok",
     "timestamp": 1698305801171,
     "user": {
      "displayName": "minzhi chen",
      "userId": "00440718569256466225"
     },
     "user_tz": -480
    },
    "id": "JA00snvGSaSl",
    "outputId": "b7d7c9dc-048d-47a5-dca5-37cb67d58d49"
   },
   "outputs": [
    {
     "name": "stdout",
     "output_type": "stream",
     "text": [
      "124\n"
     ]
    }
   ],
   "source": [
    "print(len(model_label_input))"
   ]
  },
  {
   "cell_type": "code",
   "execution_count": 29,
   "metadata": {
    "executionInfo": {
     "elapsed": 26,
     "status": "ok",
     "timestamp": 1698305801172,
     "user": {
      "displayName": "minzhi chen",
      "userId": "00440718569256466225"
     },
     "user_tz": -480
    },
    "id": "Gc4-noi_G1Yu"
   },
   "outputs": [],
   "source": [
    "'''\n",
    "输入模型的训练测试集划分\n",
    "'''\n",
    "def train_test_nn(feature_data, label_data):\n",
    "  train_begin=0\n",
    "  train_end=100\n",
    "  test_begin=100\n",
    "\n",
    "  train_x=feature_data[train_begin:train_end]\n",
    "  test_x=feature_data[test_begin:]\n",
    "\n",
    "  train_y=label_data[train_begin:train_end]\n",
    "  # train_y=train_y/1.2\n",
    "  test_y=label_data[test_begin:]\n",
    "  # test_y=test_y/1.2\n",
    "\n",
    "  return train_x,train_y,test_x,test_y\n",
    "\n",
    "train_x,train_y,test_x,test_y=train_test_nn(model_feature_input,model_label_input)"
   ]
  },
  {
   "cell_type": "code",
   "execution_count": 30,
   "metadata": {
    "colab": {
     "base_uri": "https://localhost:8080/"
    },
    "executionInfo": {
     "elapsed": 25,
     "status": "ok",
     "timestamp": 1698305801172,
     "user": {
      "displayName": "minzhi chen",
      "userId": "00440718569256466225"
     },
     "user_tz": -480
    },
    "id": "_Roxx4N0Sp99",
    "outputId": "dc884c5c-21cf-43df-e919-1acf3f14c037"
   },
   "outputs": [
    {
     "name": "stdout",
     "output_type": "stream",
     "text": [
      "(100, 140000)\n",
      "(100,)\n",
      "(24, 140000)\n",
      "(24,)\n"
     ]
    }
   ],
   "source": [
    "print(train_x.shape)\n",
    "print(train_y.shape)\n",
    "print(test_x.shape)\n",
    "print(test_y.shape)"
   ]
  },
  {
   "cell_type": "markdown",
   "metadata": {
    "id": "gtZ7XzEzYHZi"
   },
   "source": [
    "# Feature Scaling"
   ]
  },
  {
   "cell_type": "code",
   "execution_count": 31,
   "metadata": {
    "executionInfo": {
     "elapsed": 23,
     "status": "ok",
     "timestamp": 1698305801172,
     "user": {
      "displayName": "minzhi chen",
      "userId": "00440718569256466225"
     },
     "user_tz": -480
    },
    "id": "l837LYhUYFdo"
   },
   "outputs": [],
   "source": [
    "from sklearn.preprocessing import StandardScaler\n",
    "\n",
    "sc = StandardScaler()\n",
    "X_train = sc.fit_transform(train_x)\n",
    "X_test = sc.transform(test_x)\n"
   ]
  },
  {
   "cell_type": "markdown",
   "metadata": {
    "id": "9Tra3kc7YMlB"
   },
   "source": [
    "#Training the Algorithm"
   ]
  },
  {
   "cell_type": "code",
   "execution_count": 32,
   "metadata": {
    "colab": {
     "base_uri": "https://localhost:8080/"
    },
    "executionInfo": {
     "elapsed": 101115,
     "status": "ok",
     "timestamp": 1698305902263,
     "user": {
      "displayName": "minzhi chen",
      "userId": "00440718569256466225"
     },
     "user_tz": -480
    },
    "id": "prZUeGag4KxS",
    "outputId": "e3a0f98a-cd21-4736-c028-399c5bebf385"
   },
   "outputs": [
    {
     "name": "stdout",
     "output_type": "stream",
     "text": [
      "292.139190215 225.849358974\n"
     ]
    }
   ],
   "source": [
    "#循环调参\n",
    "\n",
    "from sklearn.ensemble import RandomForestRegressor\n",
    "from sklearn import metrics\n",
    "n_estimators_list=[13]\n",
    "random_state_list=[11]\n",
    "max_features_list=[32]\n",
    "max_depth_list=[14]\n",
    "\n",
    "for a in n_estimators_list:\n",
    "  for b in random_state_list:\n",
    "    for c in max_features_list:\n",
    "      for d in max_depth_list:\n",
    "        regressor = RandomForestRegressor(n_estimators=a, random_state=b, max_features=c, max_depth=d ) #criterion=\"mse\",oob_score=True,min_samples_split=2\n",
    "        regressor.fit(X_train, train_y)\n",
    "        y_pred = regressor.predict(X_test)\n",
    "#         print(round(metrics.mean_absolute_error(test_y, y_pred),9),round(np.sqrt(metrics.mean_squared_error(test_y, y_pred)),9))#'test_MAE', #'test_RMSE',\n",
    "        RMSE=round(np.sqrt(metrics.mean_squared_error(test_y, y_pred)),9)\n",
    "        MAE=round(metrics.mean_absolute_error(test_y, y_pred),9)\n",
    "#         print(a,b,c,d,RMSE,MAE)#'test_MAE', #'test_RMSE',\n",
    "        print(RMSE,MAE)#'test_MAE', #'test_RMSE',"
   ]
  },
  {
   "cell_type": "markdown",
   "metadata": {
    "id": "_0dXKgMaYwYh"
   },
   "source": [
    "#Evaluating the Algorithm\n",
    "\n"
   ]
  },
  {
   "cell_type": "code",
   "execution_count": 33,
   "metadata": {
    "colab": {
     "base_uri": "https://localhost:8080/",
     "height": 508
    },
    "executionInfo": {
     "elapsed": 41,
     "status": "ok",
     "timestamp": 1698305902264,
     "user": {
      "displayName": "minzhi chen",
      "userId": "00440718569256466225"
     },
     "user_tz": -480
    },
    "id": "T2UtMB8uYsEi",
    "outputId": "40f4cb56-3de1-4a47-e179-55e9e3744695"
   },
   "outputs": [
    {
     "data": {
      "image/png": "[encoded data removed]",
      "text/plain": [
       "<Figure size 640x480 with 1 Axes>"
      ]
     },
     "metadata": {},
     "output_type": "display_data"
    }
   ],
   "source": [
    "from sklearn import metrics\n",
    "\n",
    "# print('test_MAE', round(metrics.mean_absolute_error(test_y, y_pred),3))\n",
    "# print('test_RMSE', round(np.sqrt(metrics.mean_squared_error(test_y, y_pred)),3))\n",
    "\n",
    "# print(round(metrics.mean_absolute_error(test_y, y_pred),3))#'test_MAE',\n",
    "# print(round(np.sqrt(metrics.mean_squared_error(test_y, y_pred)),3))#'test_RMSE',\n",
    "\n",
    "\n",
    "#draw\n",
    "x_aix_1 = np.arange(1, len(test_y) + 1)\n",
    "plt.plot(x_aix_1, y_pred, label='Predicted SOH')  #测试集的预测值\n",
    "plt.plot(x_aix_1, test_y, label='Actual SOH' ) #测试集的真实值\n",
    "plt.title(\"RF for Battery#1 SOH Estimation\")\n",
    "# plt.xticks([500,1000,1500,2000,2500], fontsize = 20)\n",
    "plt.xlabel('Cycle')  #, fontsize=20\n",
    "plt.ylabel('Capacity')  #, fontsize=20\n",
    "# plt.legend(fontsize=20)\n",
    "plt.legend(loc='upper right')\n",
    "plt.show()\n",
    "\n",
    "# print(y_pred1)"
   ]
  },
  {
   "cell_type": "code",
   "execution_count": null,
   "metadata": {
    "executionInfo": {
     "elapsed": 26,
     "status": "ok",
     "timestamp": 1698305902265,
     "user": {
      "displayName": "minzhi chen",
      "userId": "00440718569256466225"
     },
     "user_tz": -480
    },
    "id": "3LI3saBs40dv"
   },
   "outputs": [],
   "source": []
  },
  {
   "cell_type": "markdown",
   "metadata": {
    "id": "RuoUHIL_Ewbw"
   },
   "source": [
    "#Print predict value"
   ]
  },
  {
   "cell_type": "code",
   "execution_count": 34,
   "metadata": {
    "colab": {
     "base_uri": "https://localhost:8080/"
    },
    "executionInfo": {
     "elapsed": 25,
     "status": "ok",
     "timestamp": 1698305902265,
     "user": {
      "displayName": "minzhi chen",
      "userId": "00440718569256466225"
     },
     "user_tz": -480
    },
    "id": "AkhHUdR1Ev3W",
    "outputId": "d0506373-7263-4bb8-88a2-df171852dc12"
   },
   "outputs": [
    {
     "name": "stdout",
     "output_type": "stream",
     "text": [
      "1134.923076923077\n",
      "1144.2307692307693\n",
      "1098.1538461538462\n",
      "1057.4615384615386\n",
      "965.3076923076923\n",
      "948.3846153846154\n",
      "1087.6153846153845\n",
      "1124.4615384615386\n",
      "1145.2307692307693\n",
      "1126.4615384615386\n",
      "1045.0\n",
      "1053.7692307692307\n",
      "1013.8461538461538\n",
      "1003.6153846153846\n",
      "953.6153846153846\n",
      "1069.923076923077\n",
      "998.7692307692307\n",
      "1191.4615384615386\n",
      "1089.076923076923\n",
      "966.4615384615385\n",
      "1097.6153846153845\n",
      "870.2307692307693\n",
      "1031.2307692307693\n",
      "1247.3846153846155\n"
     ]
    }
   ],
   "source": [
    "for i in range(len(y_pred)):\n",
    "    print(y_pred[i])#i, test_y[i],"
   ]
  },
  {
   "cell_type": "code",
   "execution_count": null,
   "metadata": {},
   "outputs": [],
   "source": []
  }
 ],
 "metadata": {
  "accelerator": "GPU",
  "colab": {
   "authorship_tag": "ABX9TyMyfjeKg42Hvj4T4Ludwrcm",
   "gpuType": "T4",
   "provenance": []
  },
  "kernelspec": {
   "display_name": "python38",
   "language": "python",
   "name": "python38"
  },
  "language_info": {
   "codemirror_mode": {
    "name": "ipython",
    "version": 3
   },
   "file_extension": ".py",
   "mimetype": "text/x-python",
   "name": "python",
   "nbconvert_exporter": "python",
   "pygments_lexer": "ipython3",
   "version": "3.8.18"
  }
 },
 "nbformat": 4,
 "nbformat_minor": 1
}
